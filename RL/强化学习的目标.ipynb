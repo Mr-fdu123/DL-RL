{
 "cells": [
  {
   "cell_type": "markdown",
   "id": "b07fd3eb",
   "metadata": {},
   "source": [
    "### 一、强化学习的目标\n",
    "\n",
    "强化学习的三个关键要素：环境(environment)、智能体(agent)和奖励(reward)。强化学习的目标是通过与环境的交互，学习一个策略(policy)，使得智能体在给定的环境中能够获得最大的累积奖励。\n",
    "\n",
    "### 二、基本概念\n",
    "1. 状态(state, s)：环境在某一时刻的具体情况。\n",
    "2. 动作(action, a)：智能体在某一状态下可以采取的行为。\n",
    "3. 奖励(reward, r)：智能体在某一状态下采取某一动作后，环境反馈给智能体的评价信号。\n",
    "4. 策略(policy, π)：智能体在每个状态下选择动作的规则或函数。\n",
    "5. 价值函数(value function, V(s))：表示在某一状态下，智能体在未来能够获得的累积奖励的期望值。\n",
    "6. 动作价值函数(action-value function, Q(s, a))：表示在某一状态下，智能体采取某一动作后，未来能够获得的累积奖励的期望值。\n"
   ]
  },
  {
   "cell_type": "markdown",
   "id": "9a21af14",
   "metadata": {},
   "source": [
    "智能体与环境交互的关系如下：<br>\n",
    "<figure style=\"text-align: center;\">\n",
    "  <img src=\"res/1.png\" alt=\"智能体与环境交互\" width=\"50%\" />\n",
    "  <figcaption>1.智能体与环境交互</figcaption>\n",
    "</figure>\n",
    "\n",
    "\n"
   ]
  }
 ],
 "metadata": {
  "language_info": {
   "name": "python"
  }
 },
 "nbformat": 4,
 "nbformat_minor": 5
}
